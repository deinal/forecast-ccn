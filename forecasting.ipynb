{
 "cells": [
  {
   "cell_type": "code",
   "execution_count": 1,
   "id": "3365533a-e749-4d5f-93ce-0106f42d8033",
   "metadata": {},
   "outputs": [
    {
     "name": "stderr",
     "output_type": "stream",
     "text": [
      "/home/hdaniel/.local/lib/python3.8/site-packages/pandas/core/computation/expressions.py:20: UserWarning: Pandas requires version '2.7.3' or newer of 'numexpr' (version '2.7.1' currently installed).\n",
      "  from pandas.core.computation.check import NUMEXPR_INSTALLED\n",
      "/home/hdaniel/.local/lib/python3.8/site-packages/pandas/core/arrays/masked.py:64: UserWarning: Pandas requires version '1.3.2' or newer of 'bottleneck' (version '1.2.1' currently installed).\n",
      "  from pandas.core import (\n"
     ]
    }
   ],
   "source": [
    "import pandas as pd\n",
    "import numpy as np\n",
    "import matplotlib.pyplot as plt"
   ]
  },
  {
   "cell_type": "code",
   "execution_count": 2,
   "id": "8cf54df2-6c06-4e13-80ae-0344acae4153",
   "metadata": {},
   "outputs": [
    {
     "data": {
      "text/html": [
       "<div>\n",
       "<style scoped>\n",
       "    .dataframe tbody tr th:only-of-type {\n",
       "        vertical-align: middle;\n",
       "    }\n",
       "\n",
       "    .dataframe tbody tr th {\n",
       "        vertical-align: top;\n",
       "    }\n",
       "\n",
       "    .dataframe thead th {\n",
       "        text-align: right;\n",
       "    }\n",
       "</style>\n",
       "<table border=\"1\" class=\"dataframe\">\n",
       "  <thead>\n",
       "    <tr style=\"text-align: right;\">\n",
       "      <th></th>\n",
       "      <th>id</th>\n",
       "      <th>station</th>\n",
       "      <th>date</th>\n",
       "      <th>latitude</th>\n",
       "      <th>longitude</th>\n",
       "      <th>n100</th>\n",
       "      <th>aermr01</th>\n",
       "      <th>aermr02</th>\n",
       "      <th>aermr03</th>\n",
       "      <th>aermr04</th>\n",
       "      <th>...</th>\n",
       "      <th>nh3</th>\n",
       "      <th>no</th>\n",
       "      <th>no2</th>\n",
       "      <th>so2</th>\n",
       "      <th>d2m</th>\n",
       "      <th>t2m</th>\n",
       "      <th>crwc</th>\n",
       "      <th>blh</th>\n",
       "      <th>rh</th>\n",
       "      <th>wind_speed</th>\n",
       "    </tr>\n",
       "  </thead>\n",
       "  <tbody>\n",
       "    <tr>\n",
       "      <th>0</th>\n",
       "      <td>ABZ-2012-01-26 18:00:00</td>\n",
       "      <td>ABZ</td>\n",
       "      <td>2012-01-26 18:00:00</td>\n",
       "      <td>50.57</td>\n",
       "      <td>12.99</td>\n",
       "      <td>8.004610</td>\n",
       "      <td>-25.205400</td>\n",
       "      <td>-20.758221</td>\n",
       "      <td>-23.644620</td>\n",
       "      <td>-32.349837</td>\n",
       "      <td>...</td>\n",
       "      <td>-21.067484</td>\n",
       "      <td>-20.375236</td>\n",
       "      <td>-17.606319</td>\n",
       "      <td>-19.048942</td>\n",
       "      <td>265.94745</td>\n",
       "      <td>268.02210</td>\n",
       "      <td>-23.343861</td>\n",
       "      <td>341.34552</td>\n",
       "      <td>85.351851</td>\n",
       "      <td>2.343428</td>\n",
       "    </tr>\n",
       "    <tr>\n",
       "      <th>1</th>\n",
       "      <td>ABZ-2012-01-26 21:00:00</td>\n",
       "      <td>ABZ</td>\n",
       "      <td>2012-01-26 21:00:00</td>\n",
       "      <td>50.57</td>\n",
       "      <td>12.99</td>\n",
       "      <td>7.930467</td>\n",
       "      <td>-25.128177</td>\n",
       "      <td>-20.680886</td>\n",
       "      <td>-23.922713</td>\n",
       "      <td>-33.939763</td>\n",
       "      <td>...</td>\n",
       "      <td>-20.798013</td>\n",
       "      <td>-19.560968</td>\n",
       "      <td>-17.517805</td>\n",
       "      <td>-18.690249</td>\n",
       "      <td>264.51917</td>\n",
       "      <td>266.25134</td>\n",
       "      <td>-23.343861</td>\n",
       "      <td>256.22314</td>\n",
       "      <td>87.455067</td>\n",
       "      <td>2.290729</td>\n",
       "    </tr>\n",
       "    <tr>\n",
       "      <th>2</th>\n",
       "      <td>ABZ-2012-01-27 00:00:00</td>\n",
       "      <td>ABZ</td>\n",
       "      <td>2012-01-27 00:00:00</td>\n",
       "      <td>50.57</td>\n",
       "      <td>12.99</td>\n",
       "      <td>7.648740</td>\n",
       "      <td>-25.586803</td>\n",
       "      <td>-21.139579</td>\n",
       "      <td>-24.793668</td>\n",
       "      <td>-30.044488</td>\n",
       "      <td>...</td>\n",
       "      <td>-20.315620</td>\n",
       "      <td>-18.490878</td>\n",
       "      <td>-17.415018</td>\n",
       "      <td>-18.248112</td>\n",
       "      <td>264.04578</td>\n",
       "      <td>265.29468</td>\n",
       "      <td>-23.343861</td>\n",
       "      <td>172.99615</td>\n",
       "      <td>90.734149</td>\n",
       "      <td>1.933842</td>\n",
       "    </tr>\n",
       "    <tr>\n",
       "      <th>3</th>\n",
       "      <td>ABZ-2012-01-27 03:00:00</td>\n",
       "      <td>ABZ</td>\n",
       "      <td>2012-01-27 03:00:00</td>\n",
       "      <td>50.57</td>\n",
       "      <td>12.99</td>\n",
       "      <td>7.493512</td>\n",
       "      <td>-26.083640</td>\n",
       "      <td>-21.636795</td>\n",
       "      <td>-25.519402</td>\n",
       "      <td>-28.561505</td>\n",
       "      <td>...</td>\n",
       "      <td>-20.260121</td>\n",
       "      <td>-17.796891</td>\n",
       "      <td>-17.333992</td>\n",
       "      <td>-18.250056</td>\n",
       "      <td>263.76500</td>\n",
       "      <td>265.05933</td>\n",
       "      <td>-23.343861</td>\n",
       "      <td>147.33954</td>\n",
       "      <td>90.393698</td>\n",
       "      <td>1.588926</td>\n",
       "    </tr>\n",
       "    <tr>\n",
       "      <th>4</th>\n",
       "      <td>ABZ-2012-01-27 06:00:00</td>\n",
       "      <td>ABZ</td>\n",
       "      <td>2012-01-27 06:00:00</td>\n",
       "      <td>50.57</td>\n",
       "      <td>12.99</td>\n",
       "      <td>7.599552</td>\n",
       "      <td>-26.317107</td>\n",
       "      <td>-21.870332</td>\n",
       "      <td>-26.070951</td>\n",
       "      <td>-27.517164</td>\n",
       "      <td>...</td>\n",
       "      <td>-20.694717</td>\n",
       "      <td>-17.289473</td>\n",
       "      <td>-17.435466</td>\n",
       "      <td>-18.717292</td>\n",
       "      <td>264.02032</td>\n",
       "      <td>265.33960</td>\n",
       "      <td>-23.343861</td>\n",
       "      <td>112.06348</td>\n",
       "      <td>90.239081</td>\n",
       "      <td>1.724053</td>\n",
       "    </tr>\n",
       "  </tbody>\n",
       "</table>\n",
       "<p>5 rows × 30 columns</p>\n",
       "</div>"
      ],
      "text/plain": [
       "                        id station                date  latitude  longitude   \n",
       "0  ABZ-2012-01-26 18:00:00     ABZ 2012-01-26 18:00:00     50.57      12.99  \\\n",
       "1  ABZ-2012-01-26 21:00:00     ABZ 2012-01-26 21:00:00     50.57      12.99   \n",
       "2  ABZ-2012-01-27 00:00:00     ABZ 2012-01-27 00:00:00     50.57      12.99   \n",
       "3  ABZ-2012-01-27 03:00:00     ABZ 2012-01-27 03:00:00     50.57      12.99   \n",
       "4  ABZ-2012-01-27 06:00:00     ABZ 2012-01-27 06:00:00     50.57      12.99   \n",
       "\n",
       "       n100    aermr01    aermr02    aermr03    aermr04  ...        nh3   \n",
       "0  8.004610 -25.205400 -20.758221 -23.644620 -32.349837  ... -21.067484  \\\n",
       "1  7.930467 -25.128177 -20.680886 -23.922713 -33.939763  ... -20.798013   \n",
       "2  7.648740 -25.586803 -21.139579 -24.793668 -30.044488  ... -20.315620   \n",
       "3  7.493512 -26.083640 -21.636795 -25.519402 -28.561505  ... -20.260121   \n",
       "4  7.599552 -26.317107 -21.870332 -26.070951 -27.517164  ... -20.694717   \n",
       "\n",
       "          no        no2        so2        d2m        t2m       crwc   \n",
       "0 -20.375236 -17.606319 -19.048942  265.94745  268.02210 -23.343861  \\\n",
       "1 -19.560968 -17.517805 -18.690249  264.51917  266.25134 -23.343861   \n",
       "2 -18.490878 -17.415018 -18.248112  264.04578  265.29468 -23.343861   \n",
       "3 -17.796891 -17.333992 -18.250056  263.76500  265.05933 -23.343861   \n",
       "4 -17.289473 -17.435466 -18.717292  264.02032  265.33960 -23.343861   \n",
       "\n",
       "         blh         rh  wind_speed  \n",
       "0  341.34552  85.351851    2.343428  \n",
       "1  256.22314  87.455067    2.290729  \n",
       "2  172.99615  90.734149    1.933842  \n",
       "3  147.33954  90.393698    1.588926  \n",
       "4  112.06348  90.239081    1.724053  \n",
       "\n",
       "[5 rows x 30 columns]"
      ]
     },
     "execution_count": 2,
     "metadata": {},
     "output_type": "execute_result"
    }
   ],
   "source": [
    "data = pd.read_csv('data/full_data.csv', parse_dates=['date'])\n",
    "\n",
    "stations = ['SGP', 'EGB', 'AMA', 'SAO', 'HRW', 'VIE', 'BSL', 'WAL', 'POV', 'MLP', 'ABZ',\n",
    "            'ABZ', 'NEU', 'VHL', 'KCE', 'ASP', 'KPZ', 'PRL', 'HYY', 'HEL', 'VAR', 'BOT',\n",
    "            'MAR', 'AMM', 'HAD', 'UAE', 'DEL', 'MUK', 'ZOT', 'BEI', 'NAN']\n",
    "\n",
    "# filter\n",
    "data = data[data.station.isin(stations)]\n",
    "data = data[data.n100 >= 1]\n",
    "\n",
    "aerosols = ['aermr01', 'aermr02', 'aermr03', 'aermr04', 'aermr05', 'aermr06', \n",
    "            'aermr07', 'aermr08', 'aermr09', 'aermr10', 'aermr11']\n",
    "\n",
    "gases = ['co', 'c5h8', 'c10h16', 'nh3', 'no', 'no2', 'so2']\n",
    "\n",
    "met = ['d2m', 't2m', 'blh', 'rh', 'wind_speed', 'crwc']\n",
    "        \n",
    "loc = ['latitude', 'longitude']\n",
    "\n",
    "log_transform = ['n100'] + aerosols + gases + ['crwc']\n",
    "\n",
    "# log-transforming the selected variables, setting negative values to the minimum observed positive value\n",
    "for v in log_transform:\n",
    "    data[v] = np.log(data[v].where(data[v] > 0, data[v][data[v] > 0].min()))    \n",
    "    \n",
    "data.head()"
   ]
  },
  {
   "cell_type": "code",
   "execution_count": 3,
   "id": "391e3680-a7f4-4ea0-8f5c-bb760b78af9a",
   "metadata": {
    "tags": []
   },
   "outputs": [],
   "source": [
    "data = data.head(2000)"
   ]
  },
  {
   "cell_type": "code",
   "execution_count": 4,
   "id": "dcf626f5-f501-4135-8286-a76f53548a75",
   "metadata": {},
   "outputs": [],
   "source": [
    "# calculate time difference between consecutive rows\n",
    "time_diff = data.groupby('station')['date'].diff()\n",
    "\n",
    "# find rows where time difference is greater than 3 hours\n",
    "gap_rows = time_diff > pd.Timedelta('3 hours')\n",
    "\n",
    "# filter for rows where time difference is greater than 3 hours and convert to hours\n",
    "gap_lengths = (time_diff[gap_rows]) / pd.Timedelta(hours=1)\n",
    "\n",
    "# create a new segment every time a gap is detected\n",
    "segment_ids = gap_rows.cumsum()\n",
    "\n",
    "# create group_ids column by concatenating station name and segment_ids\n",
    "data['group_ids'] = data['station'] + '_segment_' + segment_ids.astype(str)\n",
    "\n",
    "# calculate the length of each segment\n",
    "segment_lengths = data.groupby(['group_ids']).size() * 3\n",
    "\n",
    "# group by group_ids, and assign a unique index to each row within each group\n",
    "data['time_idx'] = data.groupby(['group_ids']).cumcount()"
   ]
  },
  {
   "cell_type": "code",
   "execution_count": 5,
   "id": "c8841b50-161e-42cd-bdab-bcf673893181",
   "metadata": {},
   "outputs": [
    {
     "data": {
      "image/png": "[encoded data removed]",
      "text/plain": [
       "<Figure size 640x480 with 1 Axes>"
      ]
     },
     "metadata": {},
     "output_type": "display_data"
    },
    {
     "data": {
      "image/png": "[encoded data removed]",
      "text/plain": [
       "<Figure size 640x480 with 1 Axes>"
      ]
     },
     "metadata": {},
     "output_type": "display_data"
    }
   ],
   "source": [
    "# calculate median, mean, and std for segment lengths\n",
    "segment_median = np.median(segment_lengths)\n",
    "segment_mean = np.mean(segment_lengths)\n",
    "segment_std = np.std(segment_lengths)\n",
    "\n",
    "# create histogram of segment lengths with median, mean, and std plotted\n",
    "plt.hist(segment_lengths, bins=50, log=True)\n",
    "plt.xlabel('Segment Length (hours)')\n",
    "plt.ylabel('Frequency')\n",
    "plt.title('Histogram of Segment Lengths (Log-Scaled)')\n",
    "plt.axvline(segment_median, color='r', linestyle='dashed', linewidth=1)\n",
    "plt.axvline(segment_mean, color='g', linestyle='dashed', linewidth=1)\n",
    "plt.axvline(segment_mean + segment_std, color='g', linestyle='dotted', linewidth=1)\n",
    "plt.axvline(segment_mean - segment_std, color='g', linestyle='dotted', linewidth=1)\n",
    "plt.legend(['Median: {:.2f}'.format(segment_median), 'Mean: {:.2f}'.format(segment_mean), 'Std: {:.2f}'.format(segment_std)])\n",
    "plt.show()\n",
    "\n",
    "# calculate median, mean, and std for gap lengths\n",
    "gap_median = np.median(gap_lengths)\n",
    "gap_mean = np.mean(gap_lengths)\n",
    "gap_std = np.std(gap_lengths)\n",
    "\n",
    "# create histogram of gap lengths with median, mean, and std plotted\n",
    "plt.hist(gap_lengths, bins=50, log=True)\n",
    "plt.xlabel('Gap Length (hours)')\n",
    "plt.ylabel('Frequency')\n",
    "plt.title('Histogram of Gap Lengths (Log-Scaled)')\n",
    "plt.axvline(gap_median, color='r', linestyle='dashed', linewidth=1)\n",
    "plt.axvline(gap_mean, color='g', linestyle='dashed', linewidth=1)\n",
    "plt.axvline(gap_mean + gap_std, color='g', linestyle='dotted', linewidth=1)\n",
    "plt.axvline(gap_mean - gap_std, color='g', linestyle='dotted', linewidth=1)\n",
    "plt.legend(['Median: {:.2f}'.format(gap_median), 'Mean: {:.2f}'.format(gap_mean), 'Std: {:.2f}'.format(gap_std)])\n",
    "plt.show()"
   ]
  },
  {
   "cell_type": "code",
   "execution_count": 6,
   "id": "69e361ad-c1bf-41c0-9a81-9957512b23f0",
   "metadata": {
    "tags": []
   },
   "outputs": [],
   "source": [
    "import os\n",
    "import warnings\n",
    "\n",
    "warnings.filterwarnings(\"ignore\")  # avoid printing out absolute paths\n",
    "\n",
    "os.chdir(\"../../..\")"
   ]
  },
  {
   "cell_type": "code",
   "execution_count": 7,
   "id": "a90011be-e18c-4166-8e18-fd73f44a1f0b",
   "metadata": {},
   "outputs": [],
   "source": [
    "import copy\n",
    "from pathlib import Path\n",
    "import warnings\n",
    "\n",
    "import lightning.pytorch as pl\n",
    "from lightning.pytorch.callbacks import EarlyStopping, LearningRateMonitor\n",
    "from lightning.pytorch.loggers import CSVLogger, TensorBoardLogger\n",
    "import numpy as np\n",
    "import pandas as pd\n",
    "import torch\n",
    "\n",
    "from pytorch_forecasting import Baseline, TemporalFusionTransformer, TimeSeriesDataSet\n",
    "from pytorch_forecasting.data import GroupNormalizer\n",
    "from pytorch_forecasting.metrics import MAE, SMAPE, PoissonLoss, QuantileLoss\n",
    "from pytorch_forecasting.models.temporal_fusion_transformer.tuning import optimize_hyperparameters"
   ]
  },
  {
   "cell_type": "code",
   "execution_count": 8,
   "id": "6f3771a2-d8c3-498f-81a0-4c951b8e1d80",
   "metadata": {},
   "outputs": [],
   "source": [
    "max_prediction_length = 6\n",
    "max_encoder_length = 24\n",
    "training_cutoff = data[\"time_idx\"].max() - max_prediction_length\n",
    "\n",
    "training = TimeSeriesDataSet(\n",
    "    data[lambda x: x.time_idx <= training_cutoff],\n",
    "    time_idx=\"time_idx\",\n",
    "    target=\"n100\",\n",
    "    group_ids=[\"group_ids\"],\n",
    "    min_encoder_length=1,  # keep encoder length long (as it is in the validation set)\n",
    "    max_encoder_length=max_encoder_length,\n",
    "    min_prediction_length=1,\n",
    "    max_prediction_length=max_prediction_length,\n",
    "    static_categoricals=[\"station\"],\n",
    "    static_reals=[\"latitude\", \"longitude\"],\n",
    "    time_varying_known_categoricals=[],\n",
    "    time_varying_known_reals=[\"time_idx\"] + gases + met + aerosols,\n",
    "    time_varying_unknown_categoricals=[],\n",
    "    time_varying_unknown_reals=[\"n100\"],\n",
    "    add_relative_time_idx=True,\n",
    "    add_target_scales=True,\n",
    "    add_encoder_length=True,\n",
    "    target_normalizer=None\n",
    ")\n",
    "\n",
    "# create validation set (predict=True) which means to predict the last max_prediction_length points in time\n",
    "# for each series\n",
    "validation = TimeSeriesDataSet.from_dataset(training, data, predict=True, stop_randomization=True)\n",
    "\n",
    "# create dataloaders for model\n",
    "batch_size = 1  # set this between 32 to 128\n",
    "train_dataloader = training.to_dataloader(train=True, batch_size=batch_size, num_workers=0)\n",
    "val_dataloader = validation.to_dataloader(train=False, batch_size=batch_size, num_workers=0)"
   ]
  },
  {
   "cell_type": "code",
   "execution_count": 9,
   "id": "3728e72d-e7f7-4cbb-a9c4-9622b950fbe6",
   "metadata": {
    "tags": []
   },
   "outputs": [
    {
     "name": "stderr",
     "output_type": "stream",
     "text": [
      "No protocol specified\n"
     ]
    },
    {
     "data": {
      "text/plain": [
       "tensor(0.4442)"
      ]
     },
     "execution_count": 9,
     "metadata": {},
     "output_type": "execute_result"
    }
   ],
   "source": [
    "# calculate baseline mean absolute error, i.e. predict next value as the last available value from the history\n",
    "baseline_predictions = Baseline().predict(val_dataloader, return_y=True, trainer_kwargs=dict(accelerator=\"cpu\", default_root_dir=\"/ssd-home/hdaniel/forecast-ccn\"))\n",
    "MAE()(baseline_predictions.output.flatten(), baseline_predictions.y)"
   ]
  },
  {
   "cell_type": "code",
   "execution_count": 10,
   "id": "8de170bf-82fc-4102-8d17-5a89395a8b54",
   "metadata": {
    "tags": []
   },
   "outputs": [
    {
     "name": "stdout",
     "output_type": "stream",
     "text": [
      "Requirement 'tensorboard' met\n",
      "DistributionNotFound: The 'tensorboardx' distribution was not found and is required by the application. HINT: Try running `pip install -U 'tensorboardx'`\n"
     ]
    }
   ],
   "source": [
    "from lightning_utilities.core.imports import RequirementCache\n",
    "\n",
    "print(RequirementCache(\"tensorboard\"))\n",
    "print(RequirementCache(\"tensorboardx\"))"
   ]
  },
  {
   "cell_type": "code",
   "execution_count": 11,
   "id": "41449a83-0b37-4a1c-92bd-6026ad157faf",
   "metadata": {
    "tags": []
   },
   "outputs": [
    {
     "name": "stderr",
     "output_type": "stream",
     "text": [
      "Global seed set to 42\n",
      "GPU available: True (cuda), used: True\n",
      "TPU available: False, using: 0 TPU cores\n",
      "IPU available: False, using: 0 IPUs\n",
      "HPU available: False, using: 0 HPUs\n"
     ]
    },
    {
     "name": "stdout",
     "output_type": "stream",
     "text": [
      "Number of parameters in network: 27.3k\n"
     ]
    }
   ],
   "source": [
    "# configure network and trainer\n",
    "pl.seed_everything(42)\n",
    "trainer = pl.Trainer(\n",
    "    accelerator=\"gpu\",\n",
    "    devices=1,\n",
    "    # clipping gradients is a hyperparameter and important to prevent divergance\n",
    "    # of the gradient for recurrent neural networks\n",
    "    gradient_clip_val=0.1,\n",
    "    default_root_dir=\"/ssd-home/hdaniel/forecast-ccn\",\n",
    ")\n",
    "\n",
    "\n",
    "tft = TemporalFusionTransformer.from_dataset(\n",
    "    training,\n",
    "    # not meaningful for finding the learning rate but otherwise very important\n",
    "    learning_rate=0.03,\n",
    "    hidden_size=8,  # most important hyperparameter apart from learning rate\n",
    "    # number of attention heads. Set to up to 4 for large datasets\n",
    "    attention_head_size=1,\n",
    "    dropout=0.1,  # between 0.1 and 0.3 are good values\n",
    "    hidden_continuous_size=8,  # set to <= hidden_size\n",
    "    loss=QuantileLoss(),\n",
    "    optimizer=\"Ranger\"\n",
    "    # reduce learning rate if no improvement in validation loss after x epochs\n",
    "    # reduce_on_plateau_patience=1000,\n",
    ")\n",
    "print(f\"Number of parameters in network: {tft.size()/1e3:.1f}k\")"
   ]
  },
  {
   "cell_type": "code",
   "execution_count": 12,
   "id": "94849ab3-0b6d-4f53-9050-51c49d61b787",
   "metadata": {
    "tags": []
   },
   "outputs": [
    {
     "name": "stderr",
     "output_type": "stream",
     "text": [
      "You are using a CUDA device ('NVIDIA GeForce RTX 3090') that has Tensor Cores. To properly utilize them, you should set `torch.set_float32_matmul_precision('medium' | 'high')` which will trade-off precision for performance. For more details, read https://pytorch.org/docs/stable/generated/torch.set_float32_matmul_precision.html#torch.set_float32_matmul_precision\n",
      "LOCAL_RANK: 0 - CUDA_VISIBLE_DEVICES: [0,1]\n"
     ]
    },
    {
     "data": {
      "application/vnd.jupyter.widget-view+json": {
       "model_id": "7f2d361cfd7144db8442e876f955137e",
       "version_major": 2,
       "version_minor": 0
      },
      "text/plain": [
       "Finding best initial lr:   0%|          | 0/100 [00:00<?, ?it/s]"
      ]
     },
     "metadata": {},
     "output_type": "display_data"
    },
    {
     "name": "stderr",
     "output_type": "stream",
     "text": [
      "`Trainer.fit` stopped: `max_steps=100` reached.\n",
      "Learning rate set to 0.8912509381337452\n",
      "Restoring states from the checkpoint path at /ssd-home/hdaniel/forecast-ccn/.lr_find_1637d9fe-e9ad-4691-b361-a75991627b1f.ckpt\n",
      "Restored all states from the checkpoint at /ssd-home/hdaniel/forecast-ccn/.lr_find_1637d9fe-e9ad-4691-b361-a75991627b1f.ckpt\n"
     ]
    },
    {
     "name": "stdout",
     "output_type": "stream",
     "text": [
      "suggested learning rate: 0.8912509381337452\n"
     ]
    },
    {
     "data": {
      "image/png": "[encoded data removed]",
      "text/plain": [
       "<Figure size 640x480 with 1 Axes>"
      ]
     },
     "metadata": {},
     "output_type": "display_data"
    }
   ],
   "source": [
    "# find optimal learning rate\n",
    "from lightning.pytorch.tuner import Tuner\n",
    "\n",
    "res = Tuner(trainer).lr_find(\n",
    "    tft,\n",
    "    train_dataloaders=train_dataloader,\n",
    "    val_dataloaders=val_dataloader,\n",
    "    max_lr=10.0,\n",
    "    min_lr=1e-6,\n",
    ")\n",
    "\n",
    "print(f\"suggested learning rate: {res.suggestion()}\")\n",
    "fig = res.plot(show=True, suggest=True)\n",
    "fig.show()"
   ]
  },
  {
   "cell_type": "markdown",
   "id": "eee8eb8e-d91c-419f-8235-c06b674fcc08",
   "metadata": {},
   "source": [
    "## train the model"
   ]
  },
  {
   "cell_type": "code",
   "execution_count": 21,
   "id": "02c22be5-c623-4009-9d82-bb458c0f3a04",
   "metadata": {
    "tags": []
   },
   "outputs": [
    {
     "name": "stderr",
     "output_type": "stream",
     "text": [
      "GPU available: True (cuda), used: True\n",
      "TPU available: False, using: 0 TPU cores\n",
      "IPU available: False, using: 0 IPUs\n",
      "HPU available: False, using: 0 HPUs\n"
     ]
    },
    {
     "name": "stdout",
     "output_type": "stream",
     "text": [
      "Number of parameters in network: 54.6k\n"
     ]
    }
   ],
   "source": [
    "# configure network and trainer\n",
    "early_stop_callback = EarlyStopping(monitor=\"val_loss\", min_delta=1e-4, patience=10, verbose=False, mode=\"min\")\n",
    "lr_logger = LearningRateMonitor()  # log the learning rate\n",
    "logger = CSVLogger(\"/ssd-home/hdaniel/forecast-ccn\")  # logging results to a tensorboard\n",
    "\n",
    "logger = TensorBoardLogger(\"/ssd-home/hdaniel/forecast-ccn\")\n",
    "\n",
    "trainer = pl.Trainer(\n",
    "    max_epochs=5,\n",
    "    accelerator=\"gpu\",\n",
    "    devices=1,\n",
    "    enable_model_summary=True,\n",
    "    gradient_clip_val=0.1,\n",
    "    limit_train_batches=50,  # coment in for training, running valiation every 30 batches\n",
    "    # fast_dev_run=True,  # comment in to check that networkor dataset has no serious bugs\n",
    "    callbacks=[lr_logger, early_stop_callback],\n",
    "    logger=logger,\n",
    ")\n",
    "\n",
    "tft = TemporalFusionTransformer.from_dataset(\n",
    "    training,\n",
    "    learning_rate=0.03,\n",
    "    hidden_size=16,\n",
    "    attention_head_size=2,\n",
    "    dropout=0.1,\n",
    "    hidden_continuous_size=8,\n",
    "    loss=QuantileLoss(),\n",
    "    log_interval=10,  # uncomment for learning rate finder and otherwise, e.g. to 10 for logging every 10 batches\n",
    "    optimizer=\"Ranger\",\n",
    "    reduce_on_plateau_patience=4,\n",
    ")\n",
    "print(f\"Number of parameters in network: {tft.size()/1e3:.1f}k\")"
   ]
  },
  {
   "cell_type": "code",
   "execution_count": 22,
   "id": "bd09cf89-06ad-49ca-8456-7ee3af3644b3",
   "metadata": {},
   "outputs": [
    {
     "name": "stderr",
     "output_type": "stream",
     "text": [
      "You are using a CUDA device ('NVIDIA GeForce RTX 3090') that has Tensor Cores. To properly utilize them, you should set `torch.set_float32_matmul_precision('medium' | 'high')` which will trade-off precision for performance. For more details, read https://pytorch.org/docs/stable/generated/torch.set_float32_matmul_precision.html#torch.set_float32_matmul_precision\n",
      "LOCAL_RANK: 0 - CUDA_VISIBLE_DEVICES: [0,1]\n",
      "\n",
      "   | Name                               | Type                            | Params\n",
      "----------------------------------------------------------------------------------------\n",
      "0  | loss                               | QuantileLoss                    | 0     \n",
      "1  | logging_metrics                    | ModuleList                      | 0     \n",
      "2  | input_embeddings                   | MultiEmbedding                  | 1     \n",
      "3  | prescalers                         | ModuleDict                      | 512   \n",
      "4  | static_variable_selection          | VariableSelectionNetwork        | 3.1 K \n",
      "5  | encoder_variable_selection         | VariableSelectionNetwork        | 19.3 K\n",
      "6  | decoder_variable_selection         | VariableSelectionNetwork        | 18.6 K\n",
      "7  | static_context_variable_selection  | GatedResidualNetwork            | 1.1 K \n",
      "8  | static_context_initial_hidden_lstm | GatedResidualNetwork            | 1.1 K \n",
      "9  | static_context_initial_cell_lstm   | GatedResidualNetwork            | 1.1 K \n",
      "10 | static_context_enrichment          | GatedResidualNetwork            | 1.1 K \n",
      "11 | lstm_encoder                       | LSTM                            | 2.2 K \n",
      "12 | lstm_decoder                       | LSTM                            | 2.2 K \n",
      "13 | post_lstm_gate_encoder             | GatedLinearUnit                 | 544   \n",
      "14 | post_lstm_add_norm_encoder         | AddNorm                         | 32    \n",
      "15 | static_enrichment                  | GatedResidualNetwork            | 1.4 K \n",
      "16 | multihead_attn                     | InterpretableMultiHeadAttention | 808   \n",
      "17 | post_attn_gate_norm                | GateAddNorm                     | 576   \n",
      "18 | pos_wise_ff                        | GatedResidualNetwork            | 1.1 K \n",
      "19 | pre_output_gate_norm               | GateAddNorm                     | 576   \n",
      "20 | output_layer                       | Linear                          | 119   \n",
      "----------------------------------------------------------------------------------------\n",
      "54.6 K    Trainable params\n",
      "0         Non-trainable params\n",
      "54.6 K    Total params\n",
      "0.218     Total estimated model params size (MB)\n"
     ]
    },
    {
     "data": {
      "application/vnd.jupyter.widget-view+json": {
       "model_id": "2aa154f823944ea1a335e211139ee9f1",
       "version_major": 2,
       "version_minor": 0
      },
      "text/plain": [
       "Sanity Checking: 0it [00:00, ?it/s]"
      ]
     },
     "metadata": {},
     "output_type": "display_data"
    },
    {
     "data": {
      "application/vnd.jupyter.widget-view+json": {
       "model_id": "f86fbf5a81b74d82896a88296bacf7f5",
       "version_major": 2,
       "version_minor": 0
      },
      "text/plain": [
       "Training: 0it [00:00, ?it/s]"
      ]
     },
     "metadata": {},
     "output_type": "display_data"
    },
    {
     "data": {
      "application/vnd.jupyter.widget-view+json": {
       "model_id": "3dafe9d5b4924b23826aa065293c96c2",
       "version_major": 2,
       "version_minor": 0
      },
      "text/plain": [
       "Validation: 0it [00:00, ?it/s]"
      ]
     },
     "metadata": {},
     "output_type": "display_data"
    },
    {
     "data": {
      "application/vnd.jupyter.widget-view+json": {
       "model_id": "f65af2a0987e4addaa9157783541e354",
       "version_major": 2,
       "version_minor": 0
      },
      "text/plain": [
       "Validation: 0it [00:00, ?it/s]"
      ]
     },
     "metadata": {},
     "output_type": "display_data"
    },
    {
     "data": {
      "application/vnd.jupyter.widget-view+json": {
       "model_id": "deefe9fa994d4b419c57f044c4394421",
       "version_major": 2,
       "version_minor": 0
      },
      "text/plain": [
       "Validation: 0it [00:00, ?it/s]"
      ]
     },
     "metadata": {},
     "output_type": "display_data"
    },
    {
     "data": {
      "application/vnd.jupyter.widget-view+json": {
       "model_id": "6091bbfa7dfd454fa171cd8eba0bbcde",
       "version_major": 2,
       "version_minor": 0
      },
      "text/plain": [
       "Validation: 0it [00:00, ?it/s]"
      ]
     },
     "metadata": {},
     "output_type": "display_data"
    },
    {
     "data": {
      "application/vnd.jupyter.widget-view+json": {
       "model_id": "787e48f6fe3b469294f72974b92e683b",
       "version_major": 2,
       "version_minor": 0
      },
      "text/plain": [
       "Validation: 0it [00:00, ?it/s]"
      ]
     },
     "metadata": {},
     "output_type": "display_data"
    },
    {
     "name": "stderr",
     "output_type": "stream",
     "text": [
      "`Trainer.fit` stopped: `max_epochs=5` reached.\n"
     ]
    }
   ],
   "source": [
    "# fit network\n",
    "trainer.fit(\n",
    "    tft,\n",
    "    train_dataloaders=train_dataloader,\n",
    "    val_dataloaders=val_dataloader,\n",
    ")"
   ]
  },
  {
   "cell_type": "code",
   "execution_count": 23,
   "id": "775f7ea8-5392-4c04-9a3e-8cfa697fcf8b",
   "metadata": {
    "tags": []
   },
   "outputs": [],
   "source": [
    "best_model_path = trainer.checkpoint_callback.best_model_path\n",
    "best_model = TemporalFusionTransformer.load_from_checkpoint(best_model_path)"
   ]
  },
  {
   "cell_type": "code",
   "execution_count": 24,
   "id": "f01795f3-3776-4af2-9b7f-04dfbac8cc50",
   "metadata": {
    "tags": []
   },
   "outputs": [
    {
     "data": {
      "text/plain": [
       "tensor(0.3992)"
      ]
     },
     "execution_count": 24,
     "metadata": {},
     "output_type": "execute_result"
    }
   ],
   "source": [
    "predictions = best_model.predict(val_dataloader, return_y=True, trainer_kwargs=dict(accelerator=\"cpu\", default_root_dir=\"/ssd-home/hdaniel/forecast-ccn\"))\n",
    "MAE()(predictions.output.flatten(), predictions.y)"
   ]
  },
  {
   "cell_type": "code",
   "execution_count": null,
   "id": "10fed72b-895f-4f16-ac06-4e1b3aee9ebb",
   "metadata": {},
   "outputs": [],
   "source": []
  }
 ],
 "metadata": {
  "kernelspec": {
   "display_name": "Python 3 (ipykernel)",
   "language": "python",
   "name": "python3"
  },
  "language_info": {
   "codemirror_mode": {
    "name": "ipython",
    "version": 3
   },
   "file_extension": ".py",
   "mimetype": "text/x-python",
   "name": "python",
   "nbconvert_exporter": "python",
   "pygments_lexer": "ipython3",
   "version": "3.8.10"
  }
 },
 "nbformat": 4,
 "nbformat_minor": 5
}
